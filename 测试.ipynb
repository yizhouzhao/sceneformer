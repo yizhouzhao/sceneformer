{
 "cells": [
  {
   "cell_type": "code",
   "execution_count": 1,
   "id": "2142ae7d",
   "metadata": {},
   "outputs": [],
   "source": [
    "from separate_models.scene_shift_cat import scene_transformer as cat_model_pre\n",
    "from separate_models.scene_shift_ori_col import scene_transformer as ori_model_pre\n",
    "from separate_models.scene_shift_loc_col import scene_transformer as loc_model_pre\n",
    "from separate_models.scene_shift_dim import scene_transformer as dim_model_pre\n",
    "import json\n",
    "import csv\n",
    "import os\n",
    "import pickle\n",
    "import copy\n",
    "import torch\n",
    "import os.path as osp\n",
    "import pandas as pd\n",
    "import numpy as np\n",
    "from scipy.spatial.transform import Rotation as R\n",
    "import transforms3d\n",
    "import trimesh\n",
    "from tqdm import tqdm\n",
    "import yaml\n",
    "from transforms.scene import (\n",
    "    SeqToTensor,\n",
    "    Get_cat_shift_info,\n",
    "    Padding_joint,\n",
    "    Augment_rotation\n",
    ")\n",
    "from torchvision.transforms import Compose\n",
    "from torch.utils.data import Subset\n",
    "from datasets.suncg_shift_seperate_dataset_deepsynth import SUNCG_Dataset\n",
    "import logging\n",
    "from data.house import Room, Node\n",
    "from data.top_down import TopDownView\n",
    "from PIL import Image\n",
    "from data.rendered import RenderedScene"
   ]
  },
  {
   "cell_type": "code",
   "execution_count": 2,
   "id": "b67ddc9b",
   "metadata": {},
   "outputs": [],
   "source": [
    "logging.getLogger(\"trimesh\").setLevel(logging.ERROR)\n",
    "\n",
    "compare = True\n",
    "\n",
    "mode = 'gen'\n",
    "room_size_cap = [6.05, 4.05, 6.05]\n",
    "collision_threshold = 1 #0.5\n",
    "device = torch.device(\"cuda\" if torch.cuda.is_available() else \"cpu\")\n",
    "room_type = 'bedroom'\n",
    "adding_wall = True\n",
    "run = 'floor_1'"
   ]
  },
  {
   "cell_type": "code",
   "execution_count": 3,
   "id": "0b8bdf1b",
   "metadata": {},
   "outputs": [],
   "source": [
    "path_dim = \"configs/scene_shift_dim_config.yaml\""
   ]
  },
  {
   "cell_type": "code",
   "execution_count": 4,
   "id": "44d50eb4",
   "metadata": {},
   "outputs": [],
   "source": [
    "with open(path_dim) as f:\n",
    "    cfg = yaml.safe_load(f)"
   ]
  },
  {
   "cell_type": "code",
   "execution_count": 6,
   "id": "4c098ea3",
   "metadata": {},
   "outputs": [],
   "source": [
    "out_path = cfg[\"test\"][\"log_dir\"]\n",
    "if compare == True:\n",
    "    out_path = 'records/bedroom'"
   ]
  },
  {
   "cell_type": "code",
   "execution_count": 7,
   "id": "d4790b1e",
   "metadata": {},
   "outputs": [],
   "source": [
    "if not os.path.exists(out_path):\n",
    "    os.makedirs(out_path)"
   ]
  },
  {
   "cell_type": "code",
   "execution_count": 8,
   "id": "c8357f99",
   "metadata": {},
   "outputs": [],
   "source": [
    "IMG_OUT_DIR = \"out_path/\" + \"compare_{room_type}/topdown_{run}/\"\n",
    "os.makedirs(osp.join(IMG_OUT_DIR, \"gt\"), exist_ok=True)\n",
    "os.makedirs(osp.join(IMG_OUT_DIR, \"preds\"), exist_ok=True)"
   ]
  },
  {
   "cell_type": "code",
   "execution_count": null,
   "id": "c5c7b4ce",
   "metadata": {},
   "outputs": [],
   "source": []
  }
 ],
 "metadata": {
  "kernelspec": {
   "display_name": "Environment (conda_ll)",
   "language": "python",
   "name": "conda_ll"
  },
  "language_info": {
   "codemirror_mode": {
    "name": "ipython",
    "version": 3
   },
   "file_extension": ".py",
   "mimetype": "text/x-python",
   "name": "python",
   "nbconvert_exporter": "python",
   "pygments_lexer": "ipython3",
   "version": "3.9.4"
  }
 },
 "nbformat": 4,
 "nbformat_minor": 5
}
