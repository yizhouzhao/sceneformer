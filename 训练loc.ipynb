{
 "cells": [
  {
   "cell_type": "code",
   "execution_count": null,
   "id": "95eb3abb",
   "metadata": {},
   "outputs": [],
   "source": [
    "import argparse\n",
    "from torchvision.transforms import Compose\n",
    "from pytorch_lightning import Trainer, seed_everything\n",
    "import torch\n",
    "from torch.utils.data import DataLoader, Subset\n",
    "from transforms.scene import (\n",
    "    SeqToTensor,\n",
    "    Padding_shift_loc_model,\n",
    "    Get_loc_shift_info,\n",
    "    Augment_rotation,\n",
    "    Augment_jitterring,\n",
    "    Add_Relations,\n",
    "    Add_Descriptions,\n",
    "    Add_Glove_Embeddings,\n",
    ")\n",
    "from datasets.suncg_shift_seperate_dataset_deepsynth import SUNCG_Dataset\n",
    "from separate_models.scene_shift_loc_col import scene_transformer\n",
    "#from pytorch_lightning.callbacks import ModelCheckpoint, EarlyStopping\n",
    "from utils.config import read_config"
   ]
  },
  {
   "cell_type": "code",
   "execution_count": null,
   "id": "67fcbc13",
   "metadata": {},
   "outputs": [],
   "source": []
  }
 ],
 "metadata": {
  "kernelspec": {
   "display_name": "Environment (conda_ll)",
   "language": "python",
   "name": "conda_ll"
  },
  "language_info": {
   "codemirror_mode": {
    "name": "ipython",
    "version": 3
   },
   "file_extension": ".py",
   "mimetype": "text/x-python",
   "name": "python",
   "nbconvert_exporter": "python",
   "pygments_lexer": "ipython3",
   "version": "3.9.4"
  }
 },
 "nbformat": 4,
 "nbformat_minor": 5
}
