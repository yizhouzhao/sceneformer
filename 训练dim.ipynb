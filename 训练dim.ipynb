{
 "cells": [
  {
   "cell_type": "code",
   "execution_count": 1,
   "id": "39dc80f2",
   "metadata": {},
   "outputs": [],
   "source": [
    "import torch\n",
    "import torch.nn.functional as F\n",
    "from tqdm.auto import tqdm\n",
    "import numpy as np"
   ]
  },
  {
   "cell_type": "code",
   "execution_count": 2,
   "id": "95eb3abb",
   "metadata": {},
   "outputs": [],
   "source": [
    "import argparse\n",
    "from torchvision.transforms import Compose\n",
    "#from pytorch_lightning import Trainer, seed_everything\n",
    "import torch\n",
    "from torch.utils.data import DataLoader, Subset\n",
    "from transforms.scene import (\n",
    "    SeqToTensor,\n",
    "    Augment_rotation,\n",
    "    Augment_jitterring,\n",
    "    Get_dim_shift_info,\n",
    "    Padding_shift_dim_model,\n",
    ")\n",
    "from datasets.suncg_shift_seperate_dataset_deepsynth import SUNCG_Dataset\n",
    "from separate_models.scene_shift_dim import scene_transformer\n",
    "#from pytorch_lightning.callbacks import ModelCheckpoint\n",
    "from utils.config import read_config"
   ]
  },
  {
   "cell_type": "code",
   "execution_count": 3,
   "id": "67fcbc13",
   "metadata": {},
   "outputs": [],
   "source": [
    "parser = argparse.ArgumentParser()\n",
    "#parser.add_argument(\"cfg_path\", help=\"Path to config file\", default=\"configs/scene_shift_cat_config.yaml\")\n",
    "args = parser.parse_args(\"\")\n",
    "\n",
    "args.cfg_path = \"configs/scene_shift_dim_config.yaml\"\n",
    "cfg = read_config(args.cfg_path)"
   ]
  },
  {
   "cell_type": "code",
   "execution_count": 4,
   "id": "9c873017",
   "metadata": {},
   "outputs": [
    {
     "data": {
      "text/plain": [
       "{'data': {'data_path': '/shared/data/new_room_data/bedroom_new_window_door_Img',\n",
       "  'out_path': 'tests/data/scene_outputs',\n",
       "  'list_path': 'None'},\n",
       " 'model': {'cat': {'start_token': 52, 'stop_token': 51, 'pad_token': 50},\n",
       "  'coor': {'start_token': 203, 'stop_token': 202, 'pad_token': 201},\n",
       "  'orient': {'start_token': 363, 'stop_token': 362, 'pad_token': 361},\n",
       "  'relation': {'start_token': 4, 'stop_token': 3, 'pad_token': 2},\n",
       "  'dim': {'start_token': 83,\n",
       "   'stop_token': 82,\n",
       "   'pad_token': 81,\n",
       "   'shape_cond': True},\n",
       "  'max_seq_len': 80,\n",
       "  'max_obj_num': 80,\n",
       "  'cat_num': 28,\n",
       "  'emb_dim': 128,\n",
       "  'dim_fwd': 128,\n",
       "  'num_heads': 4,\n",
       "  'num_blocks': 8,\n",
       "  'dropout': 0.3},\n",
       " 'train': {'aug': {'jitter_list': [0.0, 0.05, 0.1, 0.15, 0.2, 0.25, 0.3],\n",
       "   'rotation_list': [0, 30, 60, 90, 120, 150, 180, 210, 240, 270]},\n",
       "  'batch_size': 128,\n",
       "  'epochs': 2000,\n",
       "  'lr': 0.0003,\n",
       "  'resume': None,\n",
       "  'total_len': 1142,\n",
       "  'train_len': 950,\n",
       "  'l2': 0.001,\n",
       "  'lr_restart': 10000,\n",
       "  'warmup': 2000},\n",
       " 'test': {'num_samples': 2,\n",
       "  'probabilistic': False,\n",
       "  'model_file': 'lightning_logs/version_226/checkpoints/last.ckpt',\n",
       "  'log_dir': 'lightning_logs/version_20/out/'}}"
      ]
     },
     "execution_count": 4,
     "metadata": {},
     "output_type": "execute_result"
    }
   ],
   "source": [
    "cfg"
   ]
  },
  {
   "cell_type": "code",
   "execution_count": 5,
   "id": "6e1c70bf",
   "metadata": {},
   "outputs": [],
   "source": [
    "cfg['data']['data_path'] = \"/home/ubuntu/research/suncg/bedroom\""
   ]
  },
  {
   "cell_type": "code",
   "execution_count": 6,
   "id": "991e2635",
   "metadata": {},
   "outputs": [],
   "source": [
    "cfg['train']['batch'] = 4"
   ]
  },
  {
   "cell_type": "markdown",
   "id": "787842ca",
   "metadata": {},
   "source": [
    "# Training"
   ]
  },
  {
   "cell_type": "code",
   "execution_count": 7,
   "id": "2fe67188",
   "metadata": {},
   "outputs": [],
   "source": [
    "t = Compose(\n",
    "        [\n",
    "            Augment_rotation(cfg['train']['aug']['rotation_list']),\n",
    "            Augment_jitterring(cfg['train']['aug']['jitter_list']),\n",
    "            Get_dim_shift_info(cfg),\n",
    "            Padding_shift_dim_model(cfg),\n",
    "            SeqToTensor(),\n",
    "        ]\n",
    "    )"
   ]
  },
  {
   "cell_type": "code",
   "execution_count": 8,
   "id": "473042af",
   "metadata": {},
   "outputs": [],
   "source": [
    "trainval_set = SUNCG_Dataset(\n",
    "    data_folder=cfg[\"data\"][\"data_path\"],\n",
    "    list_path=cfg[\"data\"][\"list_path\"],\n",
    "    transform=t,\n",
    ")\n",
    "\n",
    "trainval_set.train_type = \"dim\"\n",
    "\n",
    "total_len = len(trainval_set) - 2\n",
    "train_len = int(0.8 * total_len)\n",
    "train_set = Subset(trainval_set, range(train_len))\n",
    "val_set = Subset(trainval_set, range(train_len, total_len))\n",
    "\n",
    "train_loader = DataLoader(\n",
    "    train_set, batch_size=cfg[\"train\"][\"batch_size\"], shuffle=True, num_workers=0\n",
    ")\n",
    "val_loader = DataLoader(\n",
    "    val_set, batch_size=cfg[\"train\"][\"batch_size\"], num_workers=0\n",
    ")\n"
   ]
  },
  {
   "cell_type": "code",
   "execution_count": 9,
   "id": "a83b47bc",
   "metadata": {},
   "outputs": [
    {
     "data": {
      "text/plain": [
       "torch.Size([80])"
      ]
     },
     "execution_count": 9,
     "metadata": {},
     "output_type": "execute_result"
    }
   ],
   "source": [
    "train_set[99][0].shape"
   ]
  },
  {
   "cell_type": "code",
   "execution_count": 10,
   "id": "225e5da5",
   "metadata": {},
   "outputs": [
    {
     "name": "stdout",
     "output_type": "stream",
     "text": [
      "Using shape cond model\n"
     ]
    }
   ],
   "source": [
    "model = scene_transformer(cfg)"
   ]
  },
  {
   "cell_type": "code",
   "execution_count": 11,
   "id": "f46eb848",
   "metadata": {},
   "outputs": [],
   "source": [
    "model = model.cuda()"
   ]
  },
  {
   "cell_type": "code",
   "execution_count": 12,
   "id": "34e4c676",
   "metadata": {},
   "outputs": [],
   "source": [
    "optimizer = torch.optim.Adam(\n",
    "            model.parameters(),\n",
    "            lr=model.cfg[\"train\"][\"lr\"],\n",
    "            weight_decay= model.cfg[\"train\"][\"l2\"],\n",
    "        )"
   ]
  },
  {
   "cell_type": "code",
   "execution_count": 16,
   "id": "2fc01d90",
   "metadata": {},
   "outputs": [],
   "source": [
    "total_epoch = 30\n",
    "print_every = 30\n",
    "best_valid_loss = 100"
   ]
  },
  {
   "cell_type": "code",
   "execution_count": 17,
   "id": "34f70ea1",
   "metadata": {},
   "outputs": [],
   "source": [
    "in_patience = 10\n",
    "current_patience = 0"
   ]
  },
  {
   "cell_type": "code",
   "execution_count": null,
   "id": "48c6daa9",
   "metadata": {},
   "outputs": [
    {
     "name": "stdout",
     "output_type": "stream",
     "text": [
      "Training epoch:  0\n"
     ]
    },
    {
     "data": {
      "application/vnd.jupyter.widget-view+json": {
       "model_id": "2ee7e2d4aa8341b392097a2c62b7979b",
       "version_major": 2,
       "version_minor": 0
      },
      "text/plain": [
       "0it [00:00, ?it/s]"
      ]
     },
     "metadata": {},
     "output_type": "display_data"
    },
    {
     "name": "stdout",
     "output_type": "stream",
     "text": [
      "loss:  1.865207552909851\n",
      "loss:  1.792915940284729\n",
      "Training epoch:  1\n"
     ]
    },
    {
     "data": {
      "application/vnd.jupyter.widget-view+json": {
       "model_id": "65fe4404661d4a7babcecccc478842b3",
       "version_major": 2,
       "version_minor": 0
      },
      "text/plain": [
       "0it [00:00, ?it/s]"
      ]
     },
     "metadata": {},
     "output_type": "display_data"
    },
    {
     "name": "stdout",
     "output_type": "stream",
     "text": [
      "loss:  1.807572603225708\n",
      "loss:  1.7876659433046977\n",
      "Training epoch:  2\n"
     ]
    },
    {
     "data": {
      "application/vnd.jupyter.widget-view+json": {
       "model_id": "1e4d543376314a7babf6865ef8345b56",
       "version_major": 2,
       "version_minor": 0
      },
      "text/plain": [
       "0it [00:00, ?it/s]"
      ]
     },
     "metadata": {},
     "output_type": "display_data"
    },
    {
     "name": "stdout",
     "output_type": "stream",
     "text": [
      "loss:  1.7798100709915161\n",
      "loss:  1.788124144077301\n",
      "Training epoch:  3\n"
     ]
    },
    {
     "data": {
      "application/vnd.jupyter.widget-view+json": {
       "model_id": "61c5425fedbd414fa75fce231308d5bb",
       "version_major": 2,
       "version_minor": 0
      },
      "text/plain": [
       "0it [00:00, ?it/s]"
      ]
     },
     "metadata": {},
     "output_type": "display_data"
    },
    {
     "name": "stdout",
     "output_type": "stream",
     "text": [
      "loss:  1.8014047145843506\n",
      "loss:  1.779676330089569\n",
      "Training epoch:  4\n"
     ]
    },
    {
     "data": {
      "application/vnd.jupyter.widget-view+json": {
       "model_id": "9a83508b702748ebbfe54804d7d06e61",
       "version_major": 2,
       "version_minor": 0
      },
      "text/plain": [
       "0it [00:00, ?it/s]"
      ]
     },
     "metadata": {},
     "output_type": "display_data"
    },
    {
     "name": "stdout",
     "output_type": "stream",
     "text": [
      "loss:  1.7924044132232666\n",
      "loss:  1.7774298508961996\n",
      "Training epoch:  5\n"
     ]
    },
    {
     "data": {
      "application/vnd.jupyter.widget-view+json": {
       "model_id": "ffc3f96536ea4a439cd36a023ac1f78a",
       "version_major": 2,
       "version_minor": 0
      },
      "text/plain": [
       "0it [00:00, ?it/s]"
      ]
     },
     "metadata": {},
     "output_type": "display_data"
    },
    {
     "name": "stdout",
     "output_type": "stream",
     "text": [
      "loss:  1.776291847229004\n",
      "loss:  1.7733834584554036\n",
      "Training epoch:  6\n"
     ]
    },
    {
     "data": {
      "application/vnd.jupyter.widget-view+json": {
       "model_id": "c50dad917fef48e5aa8c7c6c9c99d0ec",
       "version_major": 2,
       "version_minor": 0
      },
      "text/plain": [
       "0it [00:00, ?it/s]"
      ]
     },
     "metadata": {},
     "output_type": "display_data"
    },
    {
     "name": "stdout",
     "output_type": "stream",
     "text": [
      "loss:  1.80858314037323\n",
      "loss:  1.7738741477330526\n",
      "Training epoch:  7\n"
     ]
    },
    {
     "data": {
      "application/vnd.jupyter.widget-view+json": {
       "model_id": "fd202ea6555f4e33a60bb502c2df51bb",
       "version_major": 2,
       "version_minor": 0
      },
      "text/plain": [
       "0it [00:00, ?it/s]"
      ]
     },
     "metadata": {},
     "output_type": "display_data"
    },
    {
     "name": "stdout",
     "output_type": "stream",
     "text": [
      "loss:  1.7342982292175293\n",
      "loss:  1.7639914313952128\n",
      "Training epoch:  8\n"
     ]
    },
    {
     "data": {
      "application/vnd.jupyter.widget-view+json": {
       "model_id": "8683ef5dca8848498b6548dabe85db88",
       "version_major": 2,
       "version_minor": 0
      },
      "text/plain": [
       "0it [00:00, ?it/s]"
      ]
     },
     "metadata": {},
     "output_type": "display_data"
    },
    {
     "name": "stdout",
     "output_type": "stream",
     "text": [
      "loss:  1.7437413930892944\n",
      "loss:  1.761853567759196\n",
      "Training epoch:  9\n"
     ]
    },
    {
     "data": {
      "application/vnd.jupyter.widget-view+json": {
       "model_id": "7d8e224b18664c8f853d3a22961ceefe",
       "version_major": 2,
       "version_minor": 0
      },
      "text/plain": [
       "0it [00:00, ?it/s]"
      ]
     },
     "metadata": {},
     "output_type": "display_data"
    },
    {
     "name": "stdout",
     "output_type": "stream",
     "text": [
      "loss:  1.7373099327087402\n",
      "loss:  1.7612302343050639\n",
      "Training epoch:  10\n"
     ]
    },
    {
     "data": {
      "application/vnd.jupyter.widget-view+json": {
       "model_id": "1faae993febc44c88d4dac4fec942e80",
       "version_major": 2,
       "version_minor": 0
      },
      "text/plain": [
       "0it [00:00, ?it/s]"
      ]
     },
     "metadata": {},
     "output_type": "display_data"
    },
    {
     "name": "stdout",
     "output_type": "stream",
     "text": [
      "loss:  1.756481409072876\n",
      "loss:  1.764276913801829\n",
      "Training epoch:  11\n"
     ]
    },
    {
     "data": {
      "application/vnd.jupyter.widget-view+json": {
       "model_id": "2f8312b4aa484ce4b236852ef25f5bd4",
       "version_major": 2,
       "version_minor": 0
      },
      "text/plain": [
       "0it [00:00, ?it/s]"
      ]
     },
     "metadata": {},
     "output_type": "display_data"
    },
    {
     "name": "stdout",
     "output_type": "stream",
     "text": [
      "loss:  1.8046578168869019\n",
      "loss:  1.7474348425865174\n",
      "Training epoch:  12\n"
     ]
    },
    {
     "data": {
      "application/vnd.jupyter.widget-view+json": {
       "model_id": "773853e586114650888613fdafcfc51f",
       "version_major": 2,
       "version_minor": 0
      },
      "text/plain": [
       "0it [00:00, ?it/s]"
      ]
     },
     "metadata": {},
     "output_type": "display_data"
    },
    {
     "name": "stdout",
     "output_type": "stream",
     "text": [
      "loss:  1.7558350563049316\n",
      "loss:  1.7489638050397238\n",
      "Training epoch:  13\n"
     ]
    },
    {
     "data": {
      "application/vnd.jupyter.widget-view+json": {
       "model_id": "cc242f4418ae43f7bfcdb34bfcdbf4a4",
       "version_major": 2,
       "version_minor": 0
      },
      "text/plain": [
       "0it [00:00, ?it/s]"
      ]
     },
     "metadata": {},
     "output_type": "display_data"
    },
    {
     "name": "stdout",
     "output_type": "stream",
     "text": [
      "loss:  1.7440974712371826\n",
      "loss:  1.7477061430613199\n",
      "Training epoch:  14\n"
     ]
    },
    {
     "data": {
      "application/vnd.jupyter.widget-view+json": {
       "model_id": "58c216bd224e4a72833d48b6b98f020a",
       "version_major": 2,
       "version_minor": 0
      },
      "text/plain": [
       "0it [00:00, ?it/s]"
      ]
     },
     "metadata": {},
     "output_type": "display_data"
    },
    {
     "name": "stdout",
     "output_type": "stream",
     "text": [
      "loss:  1.7465617656707764\n",
      "loss:  1.7525884628295898\n",
      "Training epoch:  15\n"
     ]
    },
    {
     "data": {
      "application/vnd.jupyter.widget-view+json": {
       "model_id": "b45fb307156e44ffb65726452dfaf54e",
       "version_major": 2,
       "version_minor": 0
      },
      "text/plain": [
       "0it [00:00, ?it/s]"
      ]
     },
     "metadata": {},
     "output_type": "display_data"
    },
    {
     "name": "stdout",
     "output_type": "stream",
     "text": [
      "loss:  1.728040337562561\n",
      "loss:  1.7391502459843953\n",
      "Training epoch:  16\n"
     ]
    },
    {
     "data": {
      "application/vnd.jupyter.widget-view+json": {
       "model_id": "6bbac54455254c25871aed2fa4d3a0df",
       "version_major": 2,
       "version_minor": 0
      },
      "text/plain": [
       "0it [00:00, ?it/s]"
      ]
     },
     "metadata": {},
     "output_type": "display_data"
    },
    {
     "name": "stdout",
     "output_type": "stream",
     "text": [
      "loss:  1.7750576734542847\n",
      "loss:  1.7409571766853333\n",
      "Training epoch:  17\n"
     ]
    },
    {
     "data": {
      "application/vnd.jupyter.widget-view+json": {
       "model_id": "bc201174fa21491c8f3da688be3c39be",
       "version_major": 2,
       "version_minor": 0
      },
      "text/plain": [
       "0it [00:00, ?it/s]"
      ]
     },
     "metadata": {},
     "output_type": "display_data"
    },
    {
     "name": "stdout",
     "output_type": "stream",
     "text": [
      "loss:  1.6904557943344116\n",
      "loss:  1.7387949705123902\n",
      "Training epoch:  18\n"
     ]
    },
    {
     "data": {
      "application/vnd.jupyter.widget-view+json": {
       "model_id": "09b26bc2aad647249f585449aeb5581d",
       "version_major": 2,
       "version_minor": 0
      },
      "text/plain": [
       "0it [00:00, ?it/s]"
      ]
     },
     "metadata": {},
     "output_type": "display_data"
    },
    {
     "name": "stdout",
     "output_type": "stream",
     "text": [
      "loss:  1.7879306077957153\n"
     ]
    }
   ],
   "source": [
    "for epoch in range(total_epoch):\n",
    "    print(\"Training epoch: \", epoch)\n",
    "    # train\n",
    "    model.train()\n",
    "    train_loss_list = []\n",
    "    for i, batch in tqdm(enumerate(train_loader)):\n",
    "        cat_seq, x_loc_seq, y_loc_seq, z_loc_seq, orient_seq, dim_seq, room_shape = batch\n",
    "        cat_seq = cat_seq.to(torch.device(\"cuda:0\"))\n",
    "        x_loc_seq = x_loc_seq.to(torch.device(\"cuda:0\"))\n",
    "        y_loc_seq = y_loc_seq.to(torch.device(\"cuda:0\"))\n",
    "        z_loc_seq = z_loc_seq.to(torch.device(\"cuda:0\"))\n",
    "        orient_seq = orient_seq.to(torch.device(\"cuda:0\"))\n",
    "        dim_seq = dim_seq.to(torch.device(\"cuda:0\"))\n",
    "        room_shape = room_shape.to(torch.device(\"cuda:0\"))\n",
    "\n",
    "        logprobs_dim = model(cat_seq, x_loc_seq, y_loc_seq, z_loc_seq, orient_seq, dim_seq, room_shape=room_shape)\n",
    "        loss_dim = F.nll_loss(\n",
    "            logprobs_dim.transpose(1, 2),\n",
    "            dim_seq[:, 1:],\n",
    "            ignore_index=model.cfg[\"model\"][\"dim\"][\"pad_token\"],\n",
    "        )\n",
    "\n",
    "        optimizer.zero_grad()\n",
    "        loss_dim.backward()\n",
    "        optimizer.step()\n",
    "\n",
    "        train_loss_list.append(loss_dim.item())\n",
    "        if i % print_every == 0:\n",
    "            print(\"loss: \", np.mean(train_loss_list))\n",
    "            train_loss_list.clear()\n",
    "            \n",
    "    torch.save(model.state_dict(), \"records/dim_best_valid_new.pth\")\n",
    "\n",
    "    # eval\n",
    "#     model.eval()\n",
    "#     val_loss_list = []\n",
    "#     for i, batch in tqdm(enumerate(val_loader)):\n",
    "#         cat_seq, x_loc_seq, y_loc_seq, z_loc_seq, orient_seq, dim_seq, room_shape = batch\n",
    "#         cat_seq = cat_seq.to(torch.device(\"cuda:0\"))\n",
    "#         x_loc_seq = x_loc_seq.to(torch.device(\"cuda:0\"))\n",
    "#         y_loc_seq = y_loc_seq.to(torch.device(\"cuda:0\"))\n",
    "#         z_loc_seq = z_loc_seq.to(torch.device(\"cuda:0\"))\n",
    "#         orient_seq = orient_seq.to(torch.device(\"cuda:0\"))\n",
    "#         dim_seq = dim_seq.to(torch.device(\"cuda:0\"))\n",
    "#         room_shape = room_shape.to(torch.device(\"cuda:0\"))\n",
    "\n",
    "#         logprobs_dim = model(cat_seq, x_loc_seq, y_loc_seq, z_loc_seq, orient_seq, dim_seq, room_shape=room_shape)\n",
    "#         loss_dim = F.nll_loss(\n",
    "#             logprobs_dim.transpose(1, 2),\n",
    "#             dim_seq[:, 1:],\n",
    "#             ignore_index=model.cfg[\"model\"][\"dim\"][\"pad_token\"],\n",
    "#         )\n",
    "#         val_loss_list.append(loss_dim.item())\n",
    "\n",
    "#     mean_valid_loss = np.mean(val_loss_list)\n",
    "#     print(\"Validation loss: \", mean_valid_loss)\n",
    "    \n",
    "#     if mean_valid_loss < best_valid_loss:\n",
    "#         best_valid_loss = mean_valid_loss\n",
    "#         torch.save(model.state_dict(), \"records/dim_best_valid.pth\")\n",
    "#         current_patience = 0\n",
    "#     else:\n",
    "#         current_patience += 1\n",
    "#         if current_patience > in_patience:\n",
    "#             break"
   ]
  },
  {
   "cell_type": "code",
   "execution_count": null,
   "id": "bda30281",
   "metadata": {
    "scrolled": true
   },
   "outputs": [],
   "source": []
  },
  {
   "cell_type": "code",
   "execution_count": null,
   "id": "4f4d2851",
   "metadata": {},
   "outputs": [],
   "source": []
  }
 ],
 "metadata": {
  "kernelspec": {
   "display_name": "Environment (conda_ll)",
   "language": "python",
   "name": "conda_ll"
  },
  "language_info": {
   "codemirror_mode": {
    "name": "ipython",
    "version": 3
   },
   "file_extension": ".py",
   "mimetype": "text/x-python",
   "name": "python",
   "nbconvert_exporter": "python",
   "pygments_lexer": "ipython3",
   "version": "3.9.4"
  }
 },
 "nbformat": 4,
 "nbformat_minor": 5
}
