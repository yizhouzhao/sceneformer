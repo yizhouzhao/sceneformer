{
 "cells": [
  {
   "cell_type": "code",
   "execution_count": 1,
   "id": "6ca91eb3",
   "metadata": {},
   "outputs": [],
   "source": [
    "import torch\n",
    "import torch.nn.functional as F\n",
    "from tqdm.auto import tqdm\n",
    "import numpy as np"
   ]
  },
  {
   "cell_type": "code",
   "execution_count": 2,
   "id": "b449fb8d",
   "metadata": {},
   "outputs": [],
   "source": [
    "# from pytorch_lightning import Trainer, seed_everything\n",
    "\n",
    "# from pytorch_lightning.callbacks import ModelCheckpoint"
   ]
  },
  {
   "cell_type": "code",
   "execution_count": 3,
   "id": "37de5956",
   "metadata": {},
   "outputs": [],
   "source": [
    "import argparse\n",
    "from torchvision.transforms import Compose\n",
    "import torch\n",
    "from torch.utils.data import DataLoader, Subset"
   ]
  },
  {
   "cell_type": "code",
   "execution_count": 4,
   "id": "f28dde88",
   "metadata": {},
   "outputs": [],
   "source": [
    "from transforms.scene import (\n",
    "    SeqToTensor,\n",
    "    Augment_rotation,\n",
    "    Augment_jitterring,\n",
    "    Get_cat_shift_info,\n",
    "    Padding_joint,\n",
    "    Add_Relations,\n",
    "    Add_Descriptions,\n",
    "    Add_Glove_Embeddings,\n",
    ")\n"
   ]
  },
  {
   "cell_type": "code",
   "execution_count": 5,
   "id": "6c2ba1a4",
   "metadata": {},
   "outputs": [],
   "source": [
    "from datasets.suncg_shift_seperate_dataset_deepsynth import SUNCG_Dataset"
   ]
  },
  {
   "cell_type": "code",
   "execution_count": 6,
   "id": "28c4f145",
   "metadata": {},
   "outputs": [],
   "source": [
    "from separate_models.scene_shift_cat import scene_transformer"
   ]
  },
  {
   "cell_type": "code",
   "execution_count": 7,
   "id": "c889930c",
   "metadata": {},
   "outputs": [],
   "source": [
    "from utils.config import read_config"
   ]
  },
  {
   "cell_type": "code",
   "execution_count": 8,
   "id": "1cbd2850",
   "metadata": {},
   "outputs": [],
   "source": [
    "parser = argparse.ArgumentParser()\n",
    "#parser.add_argument(\"cfg_path\", help=\"Path to config file\", default=\"configs/scene_shift_cat_config.yaml\")\n",
    "args = parser.parse_args(\"\")\n",
    "\n",
    "args.cfg_path = \"configs/scene_shift_cat_config.yaml\"\n",
    "cfg = read_config(args.cfg_path)"
   ]
  },
  {
   "cell_type": "code",
   "execution_count": 10,
   "id": "c19a3bd8",
   "metadata": {
    "scrolled": true
   },
   "outputs": [
    {
     "data": {
      "text/plain": [
       "{'data': {'data_path': '/shared/data/new_room_data/bedroom_new_multi_img',\n",
       "  'out_path': 'tests/data/scene_outputs',\n",
       "  'list_path': 'None'},\n",
       " 'model': {'cat': {'shuffle': False,\n",
       "   'shape_cond': True,\n",
       "   'text_cond': False,\n",
       "   'start_token': 52,\n",
       "   'stop_token': 51,\n",
       "   'pad_token': 50},\n",
       "  'coor': {'shape_cond': True,\n",
       "   'text_cond': False,\n",
       "   'start_token': 203,\n",
       "   'stop_token': 202,\n",
       "   'pad_token': 201},\n",
       "  'orient': {'shape_cond': True,\n",
       "   'text_cond': False,\n",
       "   'start_token': 363,\n",
       "   'stop_token': 362,\n",
       "   'pad_token': 361},\n",
       "  'relation': {'start_token': 4, 'stop_token': 3, 'pad_token': 2},\n",
       "  'dim': {'shape_cond': True,\n",
       "   'start_token': 83,\n",
       "   'stop_token': 82,\n",
       "   'pad_token': 81},\n",
       "  'max_seq_len': 40,\n",
       "  'max_obj_num': 100,\n",
       "  'cat_num': 28,\n",
       "  'emb_dim': 256,\n",
       "  'dim_fwd': 256,\n",
       "  'num_heads': 8,\n",
       "  'num_blocks': 8,\n",
       "  'dropout': 0.3},\n",
       " 'text_model': {'max_seq_len': 100,\n",
       "  'num_heads': 16,\n",
       "  'num_blocks': 6,\n",
       "  'dropout': 0.3,\n",
       "  'voc': 120,\n",
       "  'pad_token': 0},\n",
       " 'train': {'aug': {'jitter_list': [0.0, 0.05, 0.1, 0.15, 0.2, 0.25, 0.3],\n",
       "   'rotation_list': [0, 30, 60, 90, 120, 150, 180, 210, 240, 270]},\n",
       "  'batch_size': 64,\n",
       "  'epochs': 2000,\n",
       "  'lr': 0.0003,\n",
       "  'resume': None,\n",
       "  'total_len': 1200,\n",
       "  'train_len': 1000,\n",
       "  'l2': 0.001,\n",
       "  'lr_restart': 30000,\n",
       "  'warmup': 5000},\n",
       " 'test': {'num_samples': 2,\n",
       "  'probabilistic': False,\n",
       "  'model_file': None,\n",
       "  'log_dir': 'lightning_logs/version_20/out/'}}"
      ]
     },
     "execution_count": 10,
     "metadata": {},
     "output_type": "execute_result"
    }
   ],
   "source": [
    "cfg"
   ]
  },
  {
   "cell_type": "code",
   "execution_count": 11,
   "id": "086ed0ce",
   "metadata": {},
   "outputs": [],
   "source": [
    "cfg['data']['data_path'] = \"/home/ubuntu/research/suncg/bedroom\""
   ]
  },
  {
   "cell_type": "markdown",
   "id": "364e0a93",
   "metadata": {},
   "source": [
    "# run_training"
   ]
  },
  {
   "cell_type": "code",
   "execution_count": 12,
   "id": "1d9aa22f",
   "metadata": {},
   "outputs": [],
   "source": [
    "transforms = [Augment_rotation(cfg['train']['aug']['rotation_list']), Augment_jitterring(cfg['train']['aug']['jitter_list']), Get_cat_shift_info(cfg)]"
   ]
  },
  {
   "cell_type": "code",
   "execution_count": 13,
   "id": "215dadd6",
   "metadata": {},
   "outputs": [],
   "source": [
    "if cfg[\"model\"][\"cat\"][\"text_cond\"]:\n",
    "    transforms += [\n",
    "        Add_Relations(),\n",
    "        Add_Descriptions(),\n",
    "        Add_Glove_Embeddings(max_sentences=3, max_length=50),\n",
    "    ]\n",
    "transforms.append(Padding_joint(cfg))\n",
    "transforms.append(SeqToTensor())\n",
    "t = Compose(transforms)"
   ]
  },
  {
   "cell_type": "code",
   "execution_count": 14,
   "id": "c72ae99d",
   "metadata": {},
   "outputs": [],
   "source": [
    "trainval_set = SUNCG_Dataset(data_folder=cfg['data']['data_path'], list_path=cfg['data']['list_path'], transform=t)\n",
    "total_len = len(trainval_set)-2\n",
    "train_len = int(0.8 * total_len)"
   ]
  },
  {
   "cell_type": "code",
   "execution_count": 15,
   "id": "3761ebff",
   "metadata": {},
   "outputs": [],
   "source": [
    "train_set = Subset(trainval_set, range(train_len))\n",
    "val_set = Subset(trainval_set, range(train_len, total_len))"
   ]
  },
  {
   "cell_type": "code",
   "execution_count": 16,
   "id": "5ef06054",
   "metadata": {},
   "outputs": [
    {
     "data": {
      "text/plain": [
       "(tensor([52,  4,  0,  0,  1,  3,  8, 10, 11, 51, 50, 50, 50, 50, 50, 50, 50, 50,\n",
       "         50, 50, 50, 50, 50, 50, 50, 50, 50, 50, 50, 50, 50, 50, 50, 50, 50, 50,\n",
       "         50, 50, 50, 50]),\n",
       " tensor([203, 140,  57,  78, 164,  83, 103, 150,  51, 202, 201, 201, 201, 201,\n",
       "         201, 201, 201, 201, 201, 201, 201, 201, 201, 201, 201, 201, 201, 201,\n",
       "         201, 201, 201, 201, 201, 201, 201, 201, 201, 201, 201, 201]),\n",
       " tensor([203,  61,  61,  61,  61,  61,  61,  61,  61, 202, 201, 201, 201, 201,\n",
       "         201, 201, 201, 201, 201, 201, 201, 201, 201, 201, 201, 201, 201, 201,\n",
       "         201, 201, 201, 201, 201, 201, 201, 201, 201, 201, 201, 201]),\n",
       " tensor([203,  62, 129, 167, 124, 138,  36,  96, 121, 202, 201, 201, 201, 201,\n",
       "         201, 201, 201, 201, 201, 201, 201, 201, 201, 201, 201, 201, 201, 201,\n",
       "         201, 201, 201, 201, 201, 201, 201, 201, 201, 201, 201, 201]),\n",
       " tensor([363, 120, 300, 300, 120, 300, 210, 120, 120, 362, 361, 361, 361, 361,\n",
       "         361, 361, 361, 361, 361, 361, 361, 361, 361, 361, 361, 361, 361, 361,\n",
       "         361, 361, 361, 361, 361, 361, 361, 361, 361, 361, 361, 361]),\n",
       " tensor([[[0., 0., 0.,  ..., 0., 0., 0.],\n",
       "          [0., 0., 0.,  ..., 0., 0., 0.],\n",
       "          [0., 0., 0.,  ..., 0., 0., 0.],\n",
       "          ...,\n",
       "          [0., 0., 0.,  ..., 0., 0., 0.],\n",
       "          [0., 0., 0.,  ..., 0., 0., 0.],\n",
       "          [0., 0., 0.,  ..., 0., 0., 0.]]]))"
      ]
     },
     "execution_count": 16,
     "metadata": {},
     "output_type": "execute_result"
    }
   ],
   "source": [
    "train_set[3]"
   ]
  },
  {
   "cell_type": "code",
   "execution_count": 17,
   "id": "9ede0293",
   "metadata": {},
   "outputs": [],
   "source": [
    "train_loader = DataLoader(\n",
    "    train_set, batch_size=cfg[\"train\"][\"batch_size\"], shuffle=True, num_workers=0\n",
    ")\n",
    "val_loader = DataLoader(\n",
    "    val_set, batch_size=cfg[\"train\"][\"batch_size\"], num_workers=0\n",
    ")"
   ]
  },
  {
   "cell_type": "code",
   "execution_count": 18,
   "id": "58a8b286",
   "metadata": {
    "scrolled": true
   },
   "outputs": [
    {
     "name": "stdout",
     "output_type": "stream",
     "text": [
      "Using shape conditioned model\n"
     ]
    }
   ],
   "source": [
    "model = scene_transformer(cfg)\n"
   ]
  },
  {
   "cell_type": "code",
   "execution_count": 19,
   "id": "cfc0d6ca",
   "metadata": {
    "scrolled": true
   },
   "outputs": [],
   "source": [
    "model = model.cuda()"
   ]
  },
  {
   "cell_type": "code",
   "execution_count": 20,
   "id": "3c93fc87",
   "metadata": {},
   "outputs": [],
   "source": [
    "optimizer = torch.optim.Adam(\n",
    "            model.parameters(),\n",
    "            lr=model.cfg[\"train\"][\"lr\"],\n",
    "            weight_decay= model.cfg[\"train\"][\"l2\"],\n",
    "        )"
   ]
  },
  {
   "cell_type": "code",
   "execution_count": 21,
   "id": "c85df6b0",
   "metadata": {},
   "outputs": [],
   "source": [
    "total_epoch = 50\n",
    "print_every = 30\n",
    "best_valid_loss = 100\n",
    "\n",
    "in_patience = 10\n",
    "current_patience = 0"
   ]
  },
  {
   "cell_type": "code",
   "execution_count": null,
   "id": "6ef2814f",
   "metadata": {},
   "outputs": [
    {
     "name": "stdout",
     "output_type": "stream",
     "text": [
      "Training epoch:  0\n"
     ]
    },
    {
     "data": {
      "application/vnd.jupyter.widget-view+json": {
       "model_id": "285bf177a3db4f91898e1f8d01c4c23a",
       "version_major": 2,
       "version_minor": 0
      },
      "text/plain": [
       "0it [00:00, ?it/s]"
      ]
     },
     "metadata": {},
     "output_type": "display_data"
    },
    {
     "name": "stdout",
     "output_type": "stream",
     "text": [
      "loss:  4.142786502838135\n",
      "loss:  2.8436357816060385\n",
      "loss:  2.2920062144597373\n"
     ]
    },
    {
     "data": {
      "application/vnd.jupyter.widget-view+json": {
       "model_id": "8fd41f28b03547dfacadc4ffe71b4987",
       "version_major": 2,
       "version_minor": 0
      },
      "text/plain": [
       "0it [00:00, ?it/s]"
      ]
     },
     "metadata": {},
     "output_type": "display_data"
    },
    {
     "name": "stdout",
     "output_type": "stream",
     "text": [
      "Validation loss:  2.006271427869797\n",
      "Training epoch:  1\n"
     ]
    },
    {
     "data": {
      "application/vnd.jupyter.widget-view+json": {
       "model_id": "7a18e79d8f7d403f916eadfa7d5f6f88",
       "version_major": 2,
       "version_minor": 0
      },
      "text/plain": [
       "0it [00:00, ?it/s]"
      ]
     },
     "metadata": {},
     "output_type": "display_data"
    },
    {
     "name": "stdout",
     "output_type": "stream",
     "text": [
      "loss:  1.9522881507873535\n",
      "loss:  1.9112616539001466\n",
      "loss:  1.8216490149497986\n"
     ]
    },
    {
     "data": {
      "application/vnd.jupyter.widget-view+json": {
       "model_id": "e4d847cfd8ff41cdbf4b019b38a28f2f",
       "version_major": 2,
       "version_minor": 0
      },
      "text/plain": [
       "0it [00:00, ?it/s]"
      ]
     },
     "metadata": {},
     "output_type": "display_data"
    },
    {
     "name": "stdout",
     "output_type": "stream",
     "text": [
      "Validation loss:  1.7733524978160857\n",
      "Training epoch:  2\n"
     ]
    },
    {
     "data": {
      "application/vnd.jupyter.widget-view+json": {
       "model_id": "2036fa13d1474ac49720819fd0584cea",
       "version_major": 2,
       "version_minor": 0
      },
      "text/plain": [
       "0it [00:00, ?it/s]"
      ]
     },
     "metadata": {},
     "output_type": "display_data"
    },
    {
     "name": "stdout",
     "output_type": "stream",
     "text": [
      "loss:  1.7373713692029318\n",
      "loss:  1.6755924503008524\n"
     ]
    },
    {
     "data": {
      "application/vnd.jupyter.widget-view+json": {
       "model_id": "87d5fa8b28a9473fa6f00bd6960ee605",
       "version_major": 2,
       "version_minor": 0
      },
      "text/plain": [
       "0it [00:00, ?it/s]"
      ]
     },
     "metadata": {},
     "output_type": "display_data"
    },
    {
     "name": "stdout",
     "output_type": "stream",
     "text": [
      "Validation loss:  1.6658772110939026\n",
      "Training epoch:  3\n"
     ]
    },
    {
     "data": {
      "application/vnd.jupyter.widget-view+json": {
       "model_id": "b805e932feb84c14854c96e54b3bb9ff",
       "version_major": 2,
       "version_minor": 0
      },
      "text/plain": [
       "0it [00:00, ?it/s]"
      ]
     },
     "metadata": {},
     "output_type": "display_data"
    },
    {
     "name": "stdout",
     "output_type": "stream",
     "text": [
      "loss:  1.5983136892318726\n",
      "loss:  1.6298908869425455\n",
      "loss:  1.6345850030581157\n"
     ]
    },
    {
     "data": {
      "application/vnd.jupyter.widget-view+json": {
       "model_id": "a23cad58742b4e14938727796e3bd8f1",
       "version_major": 2,
       "version_minor": 0
      },
      "text/plain": [
       "0it [00:00, ?it/s]"
      ]
     },
     "metadata": {},
     "output_type": "display_data"
    },
    {
     "name": "stdout",
     "output_type": "stream",
     "text": [
      "Validation loss:  1.6267554938793183\n",
      "Training epoch:  4\n"
     ]
    },
    {
     "data": {
      "application/vnd.jupyter.widget-view+json": {
       "model_id": "27cc0b42049d437fabf8f0682b28dad1",
       "version_major": 2,
       "version_minor": 0
      },
      "text/plain": [
       "0it [00:00, ?it/s]"
      ]
     },
     "metadata": {},
     "output_type": "display_data"
    },
    {
     "name": "stdout",
     "output_type": "stream",
     "text": [
      "loss:  1.4756146669387817\n",
      "loss:  1.5875162879625957\n",
      "loss:  1.593701926867167\n"
     ]
    },
    {
     "data": {
      "application/vnd.jupyter.widget-view+json": {
       "model_id": "06f4c93ac8ac47cb931b677caa74eae9",
       "version_major": 2,
       "version_minor": 0
      },
      "text/plain": [
       "0it [00:00, ?it/s]"
      ]
     },
     "metadata": {},
     "output_type": "display_data"
    },
    {
     "name": "stdout",
     "output_type": "stream",
     "text": [
      "Validation loss:  1.5968953311443328\n",
      "Training epoch:  5\n"
     ]
    },
    {
     "data": {
      "application/vnd.jupyter.widget-view+json": {
       "model_id": "d76e0ed31b754ddab585998141cea2b0",
       "version_major": 2,
       "version_minor": 0
      },
      "text/plain": [
       "0it [00:00, ?it/s]"
      ]
     },
     "metadata": {},
     "output_type": "display_data"
    },
    {
     "name": "stdout",
     "output_type": "stream",
     "text": [
      "loss:  1.5466208457946777\n",
      "loss:  1.5678273121515909\n",
      "loss:  1.5807298064231872\n"
     ]
    },
    {
     "data": {
      "application/vnd.jupyter.widget-view+json": {
       "model_id": "95260b0bbac34ba19c64ca5a2182e062",
       "version_major": 2,
       "version_minor": 0
      },
      "text/plain": [
       "0it [00:00, ?it/s]"
      ]
     },
     "metadata": {},
     "output_type": "display_data"
    },
    {
     "name": "stdout",
     "output_type": "stream",
     "text": [
      "Validation loss:  1.5863318383693694\n",
      "Training epoch:  6\n"
     ]
    },
    {
     "data": {
      "application/vnd.jupyter.widget-view+json": {
       "model_id": "607353cabc8f4457b3181bef172a91fe",
       "version_major": 2,
       "version_minor": 0
      },
      "text/plain": [
       "0it [00:00, ?it/s]"
      ]
     },
     "metadata": {},
     "output_type": "display_data"
    },
    {
     "name": "stdout",
     "output_type": "stream",
     "text": [
      "loss:  1.4992324113845825\n",
      "loss:  1.5599275747934978\n",
      "loss:  1.5410220185915628\n"
     ]
    },
    {
     "data": {
      "application/vnd.jupyter.widget-view+json": {
       "model_id": "35dbd910ce3941c8903abf2fbce17534",
       "version_major": 2,
       "version_minor": 0
      },
      "text/plain": [
       "0it [00:00, ?it/s]"
      ]
     },
     "metadata": {},
     "output_type": "display_data"
    },
    {
     "name": "stdout",
     "output_type": "stream",
     "text": [
      "Validation loss:  1.5677415132522583\n",
      "Training epoch:  7\n"
     ]
    },
    {
     "data": {
      "application/vnd.jupyter.widget-view+json": {
       "model_id": "f2d22f0c4c0348f9a994343677a545d1",
       "version_major": 2,
       "version_minor": 0
      },
      "text/plain": [
       "0it [00:00, ?it/s]"
      ]
     },
     "metadata": {},
     "output_type": "display_data"
    },
    {
     "name": "stdout",
     "output_type": "stream",
     "text": [
      "loss:  1.5015863180160522\n",
      "loss:  1.5364260077476501\n",
      "loss:  1.5391860405604045\n"
     ]
    },
    {
     "data": {
      "application/vnd.jupyter.widget-view+json": {
       "model_id": "1770667de2144830bd7a67c58fcdf1e6",
       "version_major": 2,
       "version_minor": 0
      },
      "text/plain": [
       "0it [00:00, ?it/s]"
      ]
     },
     "metadata": {},
     "output_type": "display_data"
    },
    {
     "name": "stdout",
     "output_type": "stream",
     "text": [
      "Validation loss:  1.5654035568237306\n",
      "Training epoch:  8\n"
     ]
    },
    {
     "data": {
      "application/vnd.jupyter.widget-view+json": {
       "model_id": "3205ca8368364ce5bc4f1caee6715471",
       "version_major": 2,
       "version_minor": 0
      },
      "text/plain": [
       "0it [00:00, ?it/s]"
      ]
     },
     "metadata": {},
     "output_type": "display_data"
    },
    {
     "name": "stdout",
     "output_type": "stream",
     "text": [
      "loss:  1.5544180870056152\n",
      "loss:  1.528335444132487\n",
      "loss:  1.534920831521352\n"
     ]
    },
    {
     "data": {
      "application/vnd.jupyter.widget-view+json": {
       "model_id": "db847e6aa16d42cbb58521ea31764343",
       "version_major": 2,
       "version_minor": 0
      },
      "text/plain": [
       "0it [00:00, ?it/s]"
      ]
     },
     "metadata": {},
     "output_type": "display_data"
    },
    {
     "name": "stdout",
     "output_type": "stream",
     "text": [
      "Validation loss:  1.5812853157520295\n",
      "Training epoch:  9\n"
     ]
    },
    {
     "data": {
      "application/vnd.jupyter.widget-view+json": {
       "model_id": "f4756dcfd46e4fd182852d0ed297a0ce",
       "version_major": 2,
       "version_minor": 0
      },
      "text/plain": [
       "0it [00:00, ?it/s]"
      ]
     },
     "metadata": {},
     "output_type": "display_data"
    },
    {
     "name": "stdout",
     "output_type": "stream",
     "text": [
      "loss:  1.4767751693725586\n",
      "loss:  1.5240188519159952\n",
      "loss:  1.5211055874824524\n"
     ]
    },
    {
     "data": {
      "application/vnd.jupyter.widget-view+json": {
       "model_id": "b4c319123fef4d1a9076486b8b655c44",
       "version_major": 2,
       "version_minor": 0
      },
      "text/plain": [
       "0it [00:00, ?it/s]"
      ]
     },
     "metadata": {},
     "output_type": "display_data"
    },
    {
     "name": "stdout",
     "output_type": "stream",
     "text": [
      "Validation loss:  1.5533227801322937\n",
      "Training epoch:  10\n"
     ]
    },
    {
     "data": {
      "application/vnd.jupyter.widget-view+json": {
       "model_id": "938127f8997d488a934d732afa6fe536",
       "version_major": 2,
       "version_minor": 0
      },
      "text/plain": [
       "0it [00:00, ?it/s]"
      ]
     },
     "metadata": {},
     "output_type": "display_data"
    },
    {
     "name": "stdout",
     "output_type": "stream",
     "text": [
      "loss:  1.5114316940307617\n",
      "loss:  1.5165903051694234\n",
      "loss:  1.529936635494232\n"
     ]
    },
    {
     "data": {
      "application/vnd.jupyter.widget-view+json": {
       "model_id": "bb1a09a9d60b40b3982ebd05af0dcc49",
       "version_major": 2,
       "version_minor": 0
      },
      "text/plain": [
       "0it [00:00, ?it/s]"
      ]
     },
     "metadata": {},
     "output_type": "display_data"
    },
    {
     "name": "stdout",
     "output_type": "stream",
     "text": [
      "Validation loss:  1.553955191373825\n",
      "Training epoch:  11\n"
     ]
    },
    {
     "data": {
      "application/vnd.jupyter.widget-view+json": {
       "model_id": "0c033e9bb4f64043ae26c51bcd21d49c",
       "version_major": 2,
       "version_minor": 0
      },
      "text/plain": [
       "0it [00:00, ?it/s]"
      ]
     },
     "metadata": {},
     "output_type": "display_data"
    },
    {
     "name": "stdout",
     "output_type": "stream",
     "text": [
      "loss:  1.4984948635101318\n",
      "loss:  1.5144067049026488\n",
      "loss:  1.5200057824452717\n"
     ]
    },
    {
     "data": {
      "application/vnd.jupyter.widget-view+json": {
       "model_id": "93cd172570a2434fa35ecce96048811d",
       "version_major": 2,
       "version_minor": 0
      },
      "text/plain": [
       "0it [00:00, ?it/s]"
      ]
     },
     "metadata": {},
     "output_type": "display_data"
    },
    {
     "name": "stdout",
     "output_type": "stream",
     "text": [
      "Validation loss:  1.5414209008216857\n",
      "Training epoch:  12\n"
     ]
    },
    {
     "data": {
      "application/vnd.jupyter.widget-view+json": {
       "model_id": "099d9fad7bde48babd0f8fe5d26dcf19",
       "version_major": 2,
       "version_minor": 0
      },
      "text/plain": [
       "0it [00:00, ?it/s]"
      ]
     },
     "metadata": {},
     "output_type": "display_data"
    },
    {
     "name": "stdout",
     "output_type": "stream",
     "text": [
      "loss:  1.5532972812652588\n",
      "loss:  1.5062721014022826\n",
      "loss:  1.5145965496699014\n"
     ]
    },
    {
     "data": {
      "application/vnd.jupyter.widget-view+json": {
       "model_id": "76798f3a7adb4da68c0eb6ebd58e3810",
       "version_major": 2,
       "version_minor": 0
      },
      "text/plain": [
       "0it [00:00, ?it/s]"
      ]
     },
     "metadata": {},
     "output_type": "display_data"
    },
    {
     "name": "stdout",
     "output_type": "stream",
     "text": [
      "Validation loss:  1.5441954672336577\n",
      "Training epoch:  13\n"
     ]
    },
    {
     "data": {
      "application/vnd.jupyter.widget-view+json": {
       "model_id": "f0bdabf9610c4bcc8c0be4d9138c6eea",
       "version_major": 2,
       "version_minor": 0
      },
      "text/plain": [
       "0it [00:00, ?it/s]"
      ]
     },
     "metadata": {},
     "output_type": "display_data"
    },
    {
     "name": "stdout",
     "output_type": "stream",
     "text": [
      "loss:  1.5500268936157227\n",
      "loss:  1.5091872453689574\n",
      "loss:  1.5078557173411051\n"
     ]
    },
    {
     "data": {
      "application/vnd.jupyter.widget-view+json": {
       "model_id": "7c7b70fbf05044d78503242558e34f2d",
       "version_major": 2,
       "version_minor": 0
      },
      "text/plain": [
       "0it [00:00, ?it/s]"
      ]
     },
     "metadata": {},
     "output_type": "display_data"
    },
    {
     "name": "stdout",
     "output_type": "stream",
     "text": [
      "Validation loss:  1.5362824559211732\n",
      "Training epoch:  14\n"
     ]
    },
    {
     "data": {
      "application/vnd.jupyter.widget-view+json": {
       "model_id": "380d4c16f4f443d8b2ff17ca008155ae",
       "version_major": 2,
       "version_minor": 0
      },
      "text/plain": [
       "0it [00:00, ?it/s]"
      ]
     },
     "metadata": {},
     "output_type": "display_data"
    },
    {
     "name": "stdout",
     "output_type": "stream",
     "text": [
      "loss:  1.4238677024841309\n",
      "loss:  1.5029184063275656\n",
      "loss:  1.506085753440857\n"
     ]
    },
    {
     "data": {
      "application/vnd.jupyter.widget-view+json": {
       "model_id": "a55866759fb7434da9ff858e9f497857",
       "version_major": 2,
       "version_minor": 0
      },
      "text/plain": [
       "0it [00:00, ?it/s]"
      ]
     },
     "metadata": {},
     "output_type": "display_data"
    },
    {
     "name": "stdout",
     "output_type": "stream",
     "text": [
      "Validation loss:  1.531947875022888\n",
      "Training epoch:  15\n"
     ]
    },
    {
     "data": {
      "application/vnd.jupyter.widget-view+json": {
       "model_id": "9a7259d565e44346b402c9fc6cc9e79d",
       "version_major": 2,
       "version_minor": 0
      },
      "text/plain": [
       "0it [00:00, ?it/s]"
      ]
     },
     "metadata": {},
     "output_type": "display_data"
    },
    {
     "name": "stdout",
     "output_type": "stream",
     "text": [
      "loss:  1.485878348350525\n",
      "loss:  1.5014251232147218\n",
      "loss:  1.5014480829238892\n"
     ]
    },
    {
     "data": {
      "application/vnd.jupyter.widget-view+json": {
       "model_id": "304277a1088046f6bb9b34edbd6a4df8",
       "version_major": 2,
       "version_minor": 0
      },
      "text/plain": [
       "0it [00:00, ?it/s]"
      ]
     },
     "metadata": {},
     "output_type": "display_data"
    },
    {
     "name": "stdout",
     "output_type": "stream",
     "text": [
      "Validation loss:  1.547640508413315\n",
      "Training epoch:  16\n"
     ]
    },
    {
     "data": {
      "application/vnd.jupyter.widget-view+json": {
       "model_id": "21343f0277434cddbf54c6309e7b9873",
       "version_major": 2,
       "version_minor": 0
      },
      "text/plain": [
       "0it [00:00, ?it/s]"
      ]
     },
     "metadata": {},
     "output_type": "display_data"
    },
    {
     "name": "stdout",
     "output_type": "stream",
     "text": [
      "loss:  1.549347162246704\n",
      "loss:  1.4890639265378316\n",
      "loss:  1.5113752166430154\n"
     ]
    },
    {
     "data": {
      "application/vnd.jupyter.widget-view+json": {
       "model_id": "17529619cbb74a7c95e4f33a1bbffb69",
       "version_major": 2,
       "version_minor": 0
      },
      "text/plain": [
       "0it [00:00, ?it/s]"
      ]
     },
     "metadata": {},
     "output_type": "display_data"
    },
    {
     "name": "stdout",
     "output_type": "stream",
     "text": [
      "Validation loss:  1.5279921174049378\n",
      "Training epoch:  17\n"
     ]
    },
    {
     "data": {
      "application/vnd.jupyter.widget-view+json": {
       "model_id": "de735d00e83b47828a3d11c475973c20",
       "version_major": 2,
       "version_minor": 0
      },
      "text/plain": [
       "0it [00:00, ?it/s]"
      ]
     },
     "metadata": {},
     "output_type": "display_data"
    },
    {
     "name": "stdout",
     "output_type": "stream",
     "text": [
      "loss:  1.4364923238754272\n",
      "loss:  1.5084267934163411\n",
      "loss:  1.4890702486038208\n"
     ]
    },
    {
     "data": {
      "application/vnd.jupyter.widget-view+json": {
       "model_id": "625e0f5dc05c4a7eb1c2f173db7dad21",
       "version_major": 2,
       "version_minor": 0
      },
      "text/plain": [
       "0it [00:00, ?it/s]"
      ]
     },
     "metadata": {},
     "output_type": "display_data"
    },
    {
     "name": "stdout",
     "output_type": "stream",
     "text": [
      "Validation loss:  1.597807091474533\n",
      "Training epoch:  18\n"
     ]
    },
    {
     "data": {
      "application/vnd.jupyter.widget-view+json": {
       "model_id": "b6eefc68ca8548e987ee99b117996b92",
       "version_major": 2,
       "version_minor": 0
      },
      "text/plain": [
       "0it [00:00, ?it/s]"
      ]
     },
     "metadata": {},
     "output_type": "display_data"
    },
    {
     "name": "stdout",
     "output_type": "stream",
     "text": [
      "loss:  1.499051809310913\n",
      "loss:  1.4870951573053997\n",
      "loss:  1.498115070660909\n"
     ]
    },
    {
     "data": {
      "application/vnd.jupyter.widget-view+json": {
       "model_id": "1954ad5b1c644e56914e298b37d30f04",
       "version_major": 2,
       "version_minor": 0
      },
      "text/plain": [
       "0it [00:00, ?it/s]"
      ]
     },
     "metadata": {},
     "output_type": "display_data"
    },
    {
     "name": "stdout",
     "output_type": "stream",
     "text": [
      "Validation loss:  1.5316394090652465\n",
      "Training epoch:  19\n"
     ]
    },
    {
     "data": {
      "application/vnd.jupyter.widget-view+json": {
       "model_id": "733502f3df154fcc9826b2915c100dbc",
       "version_major": 2,
       "version_minor": 0
      },
      "text/plain": [
       "0it [00:00, ?it/s]"
      ]
     },
     "metadata": {},
     "output_type": "display_data"
    },
    {
     "name": "stdout",
     "output_type": "stream",
     "text": [
      "loss:  1.452535629272461\n",
      "loss:  1.5022929668426515\n",
      "loss:  1.4983164072036743\n"
     ]
    },
    {
     "data": {
      "application/vnd.jupyter.widget-view+json": {
       "model_id": "fc1519eb29f043c7b98d132e4a6234ec",
       "version_major": 2,
       "version_minor": 0
      },
      "text/plain": [
       "0it [00:00, ?it/s]"
      ]
     },
     "metadata": {},
     "output_type": "display_data"
    },
    {
     "name": "stdout",
     "output_type": "stream",
     "text": [
      "Validation loss:  1.5200016021728515\n",
      "Training epoch:  20\n"
     ]
    },
    {
     "data": {
      "application/vnd.jupyter.widget-view+json": {
       "model_id": "cebe7b1c1eef473d9316d6e6e2783652",
       "version_major": 2,
       "version_minor": 0
      },
      "text/plain": [
       "0it [00:00, ?it/s]"
      ]
     },
     "metadata": {},
     "output_type": "display_data"
    },
    {
     "name": "stdout",
     "output_type": "stream",
     "text": [
      "loss:  1.4014338254928589\n",
      "loss:  1.491713559627533\n",
      "loss:  1.4972712715466818\n"
     ]
    },
    {
     "data": {
      "application/vnd.jupyter.widget-view+json": {
       "model_id": "eeedbf5b54274c0a9942143fe407ea79",
       "version_major": 2,
       "version_minor": 0
      },
      "text/plain": [
       "0it [00:00, ?it/s]"
      ]
     },
     "metadata": {},
     "output_type": "display_data"
    },
    {
     "name": "stdout",
     "output_type": "stream",
     "text": [
      "Validation loss:  1.5292137920856477\n",
      "Training epoch:  21\n"
     ]
    },
    {
     "data": {
      "application/vnd.jupyter.widget-view+json": {
       "model_id": "4b9e31211c6246adbda13dc3a443630f",
       "version_major": 2,
       "version_minor": 0
      },
      "text/plain": [
       "0it [00:00, ?it/s]"
      ]
     },
     "metadata": {},
     "output_type": "display_data"
    },
    {
     "name": "stdout",
     "output_type": "stream",
     "text": [
      "loss:  1.4967328310012817\n",
      "loss:  1.4858655015627542\n",
      "loss:  1.4935709396998087\n"
     ]
    },
    {
     "data": {
      "application/vnd.jupyter.widget-view+json": {
       "model_id": "3233ea2288ed469c8e0ad3fa99f49a94",
       "version_major": 2,
       "version_minor": 0
      },
      "text/plain": [
       "0it [00:00, ?it/s]"
      ]
     },
     "metadata": {},
     "output_type": "display_data"
    },
    {
     "name": "stdout",
     "output_type": "stream",
     "text": [
      "Validation loss:  1.5338353216648102\n",
      "Training epoch:  22\n"
     ]
    },
    {
     "data": {
      "application/vnd.jupyter.widget-view+json": {
       "model_id": "4453ebe934e744a5bb17a9a66399e695",
       "version_major": 2,
       "version_minor": 0
      },
      "text/plain": [
       "0it [00:00, ?it/s]"
      ]
     },
     "metadata": {},
     "output_type": "display_data"
    },
    {
     "name": "stdout",
     "output_type": "stream",
     "text": [
      "loss:  1.5727976560592651\n",
      "loss:  1.4801759401957193\n",
      "loss:  1.5063881754875184\n"
     ]
    },
    {
     "data": {
      "application/vnd.jupyter.widget-view+json": {
       "model_id": "9cc6f152c3dd427a8807275b9a4cb15a",
       "version_major": 2,
       "version_minor": 0
      },
      "text/plain": [
       "0it [00:00, ?it/s]"
      ]
     },
     "metadata": {},
     "output_type": "display_data"
    },
    {
     "name": "stdout",
     "output_type": "stream",
     "text": [
      "Validation loss:  1.5314603984355926\n",
      "Training epoch:  23\n"
     ]
    },
    {
     "data": {
      "application/vnd.jupyter.widget-view+json": {
       "model_id": "dd89c7e556a14688abd96f5734ac074b",
       "version_major": 2,
       "version_minor": 0
      },
      "text/plain": [
       "0it [00:00, ?it/s]"
      ]
     },
     "metadata": {},
     "output_type": "display_data"
    },
    {
     "name": "stdout",
     "output_type": "stream",
     "text": [
      "loss:  1.505948781967163\n",
      "loss:  1.4969555298487345\n",
      "loss:  1.4858598748842875\n"
     ]
    },
    {
     "data": {
      "application/vnd.jupyter.widget-view+json": {
       "model_id": "de959856903e4a2084464da99b72ef66",
       "version_major": 2,
       "version_minor": 0
      },
      "text/plain": [
       "0it [00:00, ?it/s]"
      ]
     },
     "metadata": {},
     "output_type": "display_data"
    },
    {
     "name": "stdout",
     "output_type": "stream",
     "text": [
      "Validation loss:  1.54506014585495\n",
      "Training epoch:  24\n"
     ]
    },
    {
     "data": {
      "application/vnd.jupyter.widget-view+json": {
       "model_id": "6a63131434f14f6b8d64560d4098451c",
       "version_major": 2,
       "version_minor": 0
      },
      "text/plain": [
       "0it [00:00, ?it/s]"
      ]
     },
     "metadata": {},
     "output_type": "display_data"
    },
    {
     "name": "stdout",
     "output_type": "stream",
     "text": [
      "loss:  1.4926759004592896\n",
      "loss:  1.4868239601453146\n",
      "loss:  1.489581290880839\n"
     ]
    },
    {
     "data": {
      "application/vnd.jupyter.widget-view+json": {
       "model_id": "1fb37db96f84417594c07f9fa91b72b3",
       "version_major": 2,
       "version_minor": 0
      },
      "text/plain": [
       "0it [00:00, ?it/s]"
      ]
     },
     "metadata": {},
     "output_type": "display_data"
    },
    {
     "name": "stdout",
     "output_type": "stream",
     "text": [
      "Validation loss:  1.6184792876243592\n",
      "Training epoch:  25\n"
     ]
    },
    {
     "data": {
      "application/vnd.jupyter.widget-view+json": {
       "model_id": "9c8f7ddbc0544e6ebfc749774ad477ed",
       "version_major": 2,
       "version_minor": 0
      },
      "text/plain": [
       "0it [00:00, ?it/s]"
      ]
     },
     "metadata": {},
     "output_type": "display_data"
    },
    {
     "name": "stdout",
     "output_type": "stream",
     "text": [
      "loss:  1.528479814529419\n",
      "loss:  1.4966655929883321\n",
      "loss:  1.4873021801312765\n"
     ]
    },
    {
     "data": {
      "application/vnd.jupyter.widget-view+json": {
       "model_id": "88a11d7229e84c639fd66064ca1a6ed8",
       "version_major": 2,
       "version_minor": 0
      },
      "text/plain": [
       "0it [00:00, ?it/s]"
      ]
     },
     "metadata": {},
     "output_type": "display_data"
    },
    {
     "name": "stdout",
     "output_type": "stream",
     "text": [
      "Validation loss:  1.53280468583107\n",
      "Training epoch:  26\n"
     ]
    },
    {
     "data": {
      "application/vnd.jupyter.widget-view+json": {
       "model_id": "a1259205e5ff42dbaed306ef814408e9",
       "version_major": 2,
       "version_minor": 0
      },
      "text/plain": [
       "0it [00:00, ?it/s]"
      ]
     },
     "metadata": {},
     "output_type": "display_data"
    },
    {
     "name": "stdout",
     "output_type": "stream",
     "text": [
      "loss:  1.514397144317627\n",
      "loss:  1.494001070658366\n"
     ]
    }
   ],
   "source": [
    "for epoch in range(total_epoch):\n",
    "    print(\"Training epoch: \", epoch)\n",
    "    # train\n",
    "    model.train()\n",
    "    train_loss_list = []\n",
    "    for i, batch in tqdm(enumerate(train_loader)):\n",
    "        cat_seq, x_loc_seq, y_loc_seq, z_loc_seq, orient_seq, room_shape = batch\n",
    "        cat_seq = cat_seq.to(torch.device(\"cuda:0\"))\n",
    "        x_loc_seq = x_loc_seq.to(torch.device(\"cuda:0\"))\n",
    "        y_loc_seq = y_loc_seq.to(torch.device(\"cuda:0\"))\n",
    "        z_loc_seq = z_loc_seq.to(torch.device(\"cuda:0\"))\n",
    "        orient_seq = orient_seq.to(torch.device(\"cuda:0\"))\n",
    "        room_shape = room_shape.to(torch.device(\"cuda:0\"))\n",
    "\n",
    "        logprobs_cat = model(cat_seq, x_loc_seq, y_loc_seq, z_loc_seq, orient_seq, room_shape=room_shape)\n",
    "        loss_cat = F.nll_loss(\n",
    "            logprobs_cat.transpose(1, 2),\n",
    "            cat_seq[:, 1:],\n",
    "            ignore_index=model.cfg[\"model\"][\"cat\"][\"pad_token\"],\n",
    "        )\n",
    "\n",
    "        optimizer.zero_grad()\n",
    "        loss_cat.backward()\n",
    "        optimizer.step()\n",
    "\n",
    "        train_loss_list.append(loss_cat.item())\n",
    "        if i % print_every == 0:\n",
    "            print(\"loss: \", np.mean(train_loss_list))\n",
    "            train_loss_list.clear()\n",
    "\n",
    "    # train\n",
    "    model.eval()\n",
    "    val_loss_list = []\n",
    "    for i, batch in tqdm(enumerate(val_loader)):\n",
    "        cat_seq, x_loc_seq, y_loc_seq, z_loc_seq, orient_seq, room_shape = batch\n",
    "        cat_seq = cat_seq.to(torch.device(\"cuda:0\"))\n",
    "        x_loc_seq = x_loc_seq.to(torch.device(\"cuda:0\"))\n",
    "        y_loc_seq = y_loc_seq.to(torch.device(\"cuda:0\"))\n",
    "        z_loc_seq = z_loc_seq.to(torch.device(\"cuda:0\"))\n",
    "        orient_seq = orient_seq.to(torch.device(\"cuda:0\"))\n",
    "        room_shape = room_shape.to(torch.device(\"cuda:0\"))\n",
    "\n",
    "        logprobs_cat = model(cat_seq, x_loc_seq, y_loc_seq, z_loc_seq, orient_seq, room_shape=room_shape)\n",
    "        loss_cat = F.nll_loss(\n",
    "            logprobs_cat.transpose(1, 2),\n",
    "            cat_seq[:, 1:],\n",
    "            ignore_index=model.cfg[\"model\"][\"cat\"][\"pad_token\"],\n",
    "        )\n",
    "\n",
    "        val_loss_list.append(loss_cat.item())\n",
    "\n",
    "    mean_valid_loss = np.mean(val_loss_list)\n",
    "    print(\"Validation loss: \", mean_valid_loss)\n",
    "    \n",
    "    if mean_valid_loss < best_valid_loss:\n",
    "        best_valid_loss = mean_valid_loss\n",
    "        torch.save(model.state_dict(), \"records/cat_best_valid.pth\")\n",
    "        current_patience = 0\n",
    "    else:\n",
    "        current_patience += 1\n",
    "        if current_patience > in_patience:\n",
    "            break"
   ]
  },
  {
   "cell_type": "code",
   "execution_count": null,
   "id": "55ad79c4",
   "metadata": {},
   "outputs": [],
   "source": []
  },
  {
   "cell_type": "code",
   "execution_count": null,
   "id": "b33b34d6",
   "metadata": {},
   "outputs": [],
   "source": []
  }
 ],
 "metadata": {
  "kernelspec": {
   "display_name": "Environment (conda_ll)",
   "language": "python",
   "name": "conda_ll"
  },
  "language_info": {
   "codemirror_mode": {
    "name": "ipython",
    "version": 3
   },
   "file_extension": ".py",
   "mimetype": "text/x-python",
   "name": "python",
   "nbconvert_exporter": "python",
   "pygments_lexer": "ipython3",
   "version": "3.9.4"
  }
 },
 "nbformat": 4,
 "nbformat_minor": 5
}
