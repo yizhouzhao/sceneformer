{
 "cells": [
  {
   "cell_type": "code",
   "execution_count": null,
   "id": "a297ee97",
   "metadata": {},
   "outputs": [],
   "source": [
    "import torch\n",
    "import torch.nn.functional as F\n",
    "from tqdm.auto import tqdm\n",
    "import numpy as np"
   ]
  },
  {
   "cell_type": "code",
   "execution_count": null,
   "id": "aceb2a86",
   "metadata": {},
   "outputs": [],
   "source": [
    "import argparse\n",
    "from torchvision.transforms import Compose\n",
    "#from pytorch_lightning import Trainer, seed_everything\n",
    "import torch\n",
    "from torch.utils.data import DataLoader, Subset\n",
    "from transforms.scene import (\n",
    "    SeqToTensor,\n",
    "    Padding_shift_ori_model,\n",
    "    Augment_rotation,\n",
    "    Augment_jitterring,\n",
    "    Get_cat_shift_info,\n",
    ")\n"
   ]
  },
  {
   "cell_type": "code",
   "execution_count": null,
   "id": "519eb96c",
   "metadata": {},
   "outputs": [],
   "source": [
    "from datasets.suncg_shift_seperate_dataset_deepsynth import SUNCG_Dataset\n",
    "from separate_models.scene_shift_ori_col import scene_transformer\n",
    "#from pytorch_lightning.callbacks import ModelCheckpoint, EarlyStopping\n",
    "from utils.config import read_config\n",
    "\n",
    "#seed_everything(1)"
   ]
  },
  {
   "cell_type": "code",
   "execution_count": null,
   "id": "3b3ee76b",
   "metadata": {},
   "outputs": [],
   "source": [
    "parser = argparse.ArgumentParser()\n",
    "#parser.add_argument(\"cfg_path\", help=\"Path to config file\", default=\"configs/scene_shift_cat_config.yaml\")\n",
    "args = parser.parse_args(\"\")\n",
    "\n",
    "args.cfg_path = \"configs/scene_shift_ori_config.yaml\"\n",
    "cfg = read_config(args.cfg_path)"
   ]
  },
  {
   "cell_type": "code",
   "execution_count": null,
   "id": "2a586ae7",
   "metadata": {},
   "outputs": [],
   "source": [
    "cfg['data']['data_path'] = \"/home/ubuntu/research/suncg/bedroom\""
   ]
  },
  {
   "cell_type": "code",
   "execution_count": null,
   "id": "ac124f00",
   "metadata": {},
   "outputs": [],
   "source": [
    "t = Compose(\n",
    "        [\n",
    "            Augment_rotation(cfg['train']['aug']['rotation_list']),\n",
    "            Augment_jitterring(cfg['train']['aug']['jitter_list']),\n",
    "            Get_cat_shift_info(cfg),\n",
    "            Padding_shift_ori_model(cfg),\n",
    "            SeqToTensor(),\n",
    "        ]\n",
    "    )"
   ]
  },
  {
   "cell_type": "code",
   "execution_count": null,
   "id": "7fb4af1b",
   "metadata": {},
   "outputs": [],
   "source": [
    "trainval_set = SUNCG_Dataset(data_folder=cfg[\"data\"][\"data_path\"], transform=t)\n",
    "trainval_set.train_type = \"ori\""
   ]
  },
  {
   "cell_type": "code",
   "execution_count": null,
   "id": "165a4e5a",
   "metadata": {},
   "outputs": [],
   "source": [
    "total_len = len(trainval_set)-2\n",
    "train_len = int(0.8 * total_len)\n",
    "\n",
    "\n",
    "train_set = Subset(trainval_set, range(train_len))\n",
    "val_set = Subset(trainval_set, range(train_len, total_len))\n",
    "\n",
    "train_loader = DataLoader(\n",
    "    train_set, batch_size=cfg[\"train\"][\"batch_size\"], shuffle=True, num_workers=4\n",
    ")\n",
    "val_loader = DataLoader(\n",
    "    val_set, batch_size=cfg[\"train\"][\"batch_size\"], num_workers=4\n",
    ")\n"
   ]
  },
  {
   "cell_type": "code",
   "execution_count": null,
   "id": "f7aa8b07",
   "metadata": {},
   "outputs": [],
   "source": [
    "train_set[0]"
   ]
  },
  {
   "cell_type": "code",
   "execution_count": null,
   "id": "5fc8cdc3",
   "metadata": {},
   "outputs": [],
   "source": [
    "model = scene_transformer(cfg)"
   ]
  },
  {
   "cell_type": "code",
   "execution_count": null,
   "id": "df399074",
   "metadata": {},
   "outputs": [],
   "source": [
    "model = model.cuda()"
   ]
  },
  {
   "cell_type": "code",
   "execution_count": null,
   "id": "dd2abd97",
   "metadata": {},
   "outputs": [],
   "source": [
    "optimizer = torch.optim.Adam(\n",
    "            model.parameters(),\n",
    "            lr=model.cfg[\"train\"][\"lr\"],\n",
    "            weight_decay=model.cfg[\"train\"][\"l2\"],\n",
    "        )"
   ]
  },
  {
   "cell_type": "code",
   "execution_count": null,
   "id": "9e707447",
   "metadata": {},
   "outputs": [],
   "source": [
    "total_epoch = 30\n",
    "print_every = 30\n",
    "best_valid_loss = 100\n",
    "\n",
    "in_patience = 5\n",
    "current_patience = 0"
   ]
  },
  {
   "cell_type": "code",
   "execution_count": null,
   "id": "4623758f",
   "metadata": {},
   "outputs": [],
   "source": [
    "for epoch in range(total_epoch):\n",
    "    print(\"Training epoch: \", epoch)\n",
    "    # train\n",
    "    model.train()\n",
    "    train_loss_list = []\n",
    "    for i, batch in tqdm(enumerate(train_loader)):\n",
    "        cat_seq, x_loc_seq, y_loc_seq, z_loc_seq, orient_seq, room_shape = batch\n",
    "        cat_seq = cat_seq.to(torch.device(\"cuda:0\"))\n",
    "        x_loc_seq = x_loc_seq.to(torch.device(\"cuda:0\"))\n",
    "        y_loc_seq = y_loc_seq.to(torch.device(\"cuda:0\"))\n",
    "        z_loc_seq = z_loc_seq.to(torch.device(\"cuda:0\"))\n",
    "        orient_seq = orient_seq.to(torch.device(\"cuda:0\"))\n",
    "        room_shape = room_shape.to(torch.device(\"cuda:0\"))\n",
    "\n",
    "        logprobs_ori = model(cat_seq, x_loc_seq, y_loc_seq, z_loc_seq, orient_seq, room_shape=room_shape)\n",
    "        loss_ori = F.nll_loss(\n",
    "            logprobs_ori.transpose(1, 2),\n",
    "            orient_seq[:, 1:],\n",
    "            ignore_index=model.cfg[\"model\"][\"orient\"][\"pad_token\"],\n",
    "        )\n",
    "\n",
    "        optimizer.zero_grad()\n",
    "        loss_ori.backward()\n",
    "        optimizer.step()\n",
    "\n",
    "        train_loss_list.append(loss_ori.item())\n",
    "        if i % print_every == 0:\n",
    "            print(\"loss: \", np.mean(train_loss_list))\n",
    "            train_loss_list.clear()\n",
    "\n",
    "    # train\n",
    "    model.eval()\n",
    "    val_loss_list = []\n",
    "    for i, batch in tqdm(enumerate(val_loader)):\n",
    "        cat_seq, x_loc_seq, y_loc_seq, z_loc_seq, orient_seq, room_shape = batch\n",
    "        cat_seq = cat_seq.to(torch.device(\"cuda:0\"))\n",
    "        x_loc_seq = x_loc_seq.to(torch.device(\"cuda:0\"))\n",
    "        y_loc_seq = y_loc_seq.to(torch.device(\"cuda:0\"))\n",
    "        z_loc_seq = z_loc_seq.to(torch.device(\"cuda:0\"))\n",
    "        orient_seq = orient_seq.to(torch.device(\"cuda:0\"))\n",
    "        room_shape = room_shape.to(torch.device(\"cuda:0\"))\n",
    "\n",
    "        logprobs_ori = model(cat_seq, x_loc_seq, y_loc_seq, z_loc_seq, orient_seq, room_shape=room_shape)\n",
    "        loss_ori = F.nll_loss(\n",
    "            logprobs_ori.transpose(1, 2),\n",
    "            orient_seq[:, 1:],\n",
    "            ignore_index=model.cfg[\"model\"][\"orient\"][\"pad_token\"],\n",
    "        )\n",
    "\n",
    "        val_loss_list.append(loss_ori.item())\n",
    "\n",
    "    mean_valid_loss = np.mean(val_loss_list)\n",
    "    print(\"Validation loss: \", mean_valid_loss)\n",
    "    \n",
    "    if mean_valid_loss < best_valid_loss:\n",
    "        best_valid_loss = mean_valid_loss\n",
    "        torch.save(model.state_dict(), \"records/ori_best_valid.pth\")\n",
    "        current_patience = 0\n",
    "    else:\n",
    "        current_patience += 1\n",
    "        if current_patience > in_patience:\n",
    "            break"
   ]
  }
 ],
 "metadata": {
  "kernelspec": {
   "display_name": "Environment (conda_ll)",
   "language": "python",
   "name": "conda_ll"
  },
  "language_info": {
   "codemirror_mode": {
    "name": "ipython",
    "version": 3
   },
   "file_extension": ".py",
   "mimetype": "text/x-python",
   "name": "python",
   "nbconvert_exporter": "python",
   "pygments_lexer": "ipython3",
   "version": "3.9.4"
  }
 },
 "nbformat": 4,
 "nbformat_minor": 5
}
